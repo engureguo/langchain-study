{
 "cells": [
  {
   "cell_type": "markdown",
   "id": "7a758f83",
   "metadata": {},
   "source": [
    "## 与API进行交互\n",
    "\n",
    "If the data or action you need is behind an API, you'll need your LLM to interact with APIs"
   ]
  },
  {
   "cell_type": "code",
   "execution_count": null,
   "id": "5217babc",
   "metadata": {},
   "outputs": [],
   "source": [
    "import os\n",
    "\n",
    "from dotenv import load_dotenv, find_dotenv\n",
    "_ = load_dotenv(find_dotenv())"
   ]
  },
  {
   "cell_type": "code",
   "execution_count": 2,
   "id": "f2596acf",
   "metadata": {},
   "outputs": [],
   "source": [
    "from langchain.chains import APIChain\n",
    "from langchain.llms import OpenAI\n",
    "\n",
    "llm = OpenAI(temperature=0)"
   ]
  },
  {
   "cell_type": "code",
   "execution_count": 3,
   "id": "cab40fb5",
   "metadata": {},
   "outputs": [],
   "source": [
    "api_docs = \"\"\"\n",
    "\n",
    "BASE URL: https://restcountries.com/\n",
    "\n",
    "API Documentation:\n",
    "\n",
    "The API endpoint /v3.1/name/{name} Used to find informatin about a country. All URL parameters are listed below:\n",
    "    - name: Name of country - Ex: italy, france\n",
    "    \n",
    "The API endpoint /v3.1/currency/{currency} Uesd to find information about a region. All URL parameters are listed below:\n",
    "    - currency: 3 letter currency. Example: USD, COP\n",
    "    \n",
    "Woo! This is my documentation\n",
    "\"\"\"\n",
    "\n",
    "chain_new = APIChain.from_llm_and_api_docs(llm, api_docs, verbose=True)"
   ]
  },
  {
   "cell_type": "code",
   "execution_count": 4,
   "id": "7ed5731e",
   "metadata": {},
   "outputs": [
    {
     "name": "stdout",
     "output_type": "stream",
     "text": [
      "\n",
      "\n",
      "\u001b[1m> Entering new APIChain chain...\u001b[0m\n",
      "\u001b[32;1m\u001b[1;3m https://restcountries.com/v3.1/name/myanmar\u001b[0m\n",
      "\u001b[33;1m\u001b[1;3m[{\"name\":{\"common\":\"Myanmar\",\"official\":\"Republic of the Union of Myanmar\",\"nativeName\":{\"mya\":{\"official\":\"ပြည်ထောင်စု သမ္မတ မြန်မာနိုင်ငံတော်\",\"common\":\"မြန်မာ\"}}},\"tld\":[\".mm\"],\"cca2\":\"MM\",\"ccn3\":\"104\",\"cca3\":\"MMR\",\"cioc\":\"MYA\",\"independent\":true,\"status\":\"officially-assigned\",\"unMember\":true,\"currencies\":{\"MMK\":{\"name\":\"Burmese kyat\",\"symbol\":\"Ks\"}},\"idd\":{\"root\":\"+9\",\"suffixes\":[\"5\"]},\"capital\":[\"Naypyidaw\"],\"altSpellings\":[\"MM\",\"Burma\",\"Republic of the Union of Myanmar\",\"Pyidaunzu Thanmăda Myăma Nainngandaw\"],\"region\":\"Asia\",\"subregion\":\"South-Eastern Asia\",\"languages\":{\"mya\":\"Burmese\"},\"translations\":{\"ara\":{\"official\":\"جمهورية اتحاد ميانمار\",\"common\":\"ميانمار\"},\"bre\":{\"official\":\"Republik Unaniezh Myanmar\",\"common\":\"Myanmar\"},\"ces\":{\"official\":\"Republika Myanmarský svaz\",\"common\":\"Myanmar\"},\"cym\":{\"official\":\"Republic of the Union of Myanmar\",\"common\":\"Myanmar\"},\"deu\":{\"official\":\"Republik der Union Myanmar\",\"common\":\"Myanmar\"},\"est\":{\"official\":\"Myanmari Liidu Vabariik\",\"common\":\"Myanmar\"},\"fin\":{\"official\":\"Myanmarin liiton tasavalta\",\"common\":\"Myanmar\"},\"fra\":{\"official\":\"République de l'Union du Myanmar\",\"common\":\"Birmanie\"},\"hrv\":{\"official\":\"Republika Unije Mijanmar\",\"common\":\"Mijanmar\"},\"hun\":{\"official\":\"Mianmari Államszövetség Köztársasága\",\"common\":\"Mianmar\"},\"ita\":{\"official\":\"Repubblica dell'Unione di Myanmar\",\"common\":\"Birmania\"},\"jpn\":{\"official\":\"ミャンマー連邦共和国\",\"common\":\"ミャンマー\"},\"kor\":{\"official\":\"미얀마 연방 공화국\",\"common\":\"미얀마\"},\"nld\":{\"official\":\"Republiek van de Unie van Myanmar\",\"common\":\"Myanmar\"},\"per\":{\"official\":\"اتحادیه جمهوری میانمار\",\"common\":\"میانمار\"},\"pol\":{\"official\":\"Republika Związku Mjanmy\",\"common\":\"Mjanma\"},\"por\":{\"official\":\"República da União de Myanmar\",\"common\":\"Myanmar\"},\"rus\":{\"official\":\"Республика Союза Мьянма\",\"common\":\"Мьянма\"},\"slk\":{\"official\":\"Mjanmarská zväzová republika\",\"common\":\"Mjanmarsko\"},\"spa\":{\"official\":\"República de la Unión de Myanmar\",\"common\":\"Myanmar\"},\"srp\":{\"official\":\"Република Савез Мјанмара\",\"common\":\"Мјанмар\"},\"swe\":{\"official\":\"Republiken Unionen Myanmar\",\"common\":\"Myanmar\"},\"tur\":{\"official\":\"Myanmar Birliği Cumhuriyeti\",\"common\":\"Myanmar\"},\"urd\":{\"official\":\"متحدہ جمہوریہ میانمار\",\"common\":\"میانمار\"},\"zho\":{\"official\":\"缅甸联邦共和国\",\"common\":\"缅甸\"}},\"latlng\":[22.0,98.0],\"landlocked\":false,\"borders\":[\"BGD\",\"CHN\",\"IND\",\"LAO\",\"THA\"],\"area\":676578.0,\"demonyms\":{\"eng\":{\"f\":\"Burmese\",\"m\":\"Burmese\"},\"fra\":{\"f\":\"Birmane\",\"m\":\"Birman\"}},\"flag\":\"\\uD83C\\uDDF2\\uD83C\\uDDF2\",\"maps\":{\"googleMaps\":\"https://goo.gl/maps/4jrZyJkDERUfHyp26\",\"openStreetMaps\":\"https://www.openstreetmap.org/relation/50371\"},\"population\":54409794,\"gini\":{\"2017\":30.7},\"fifa\":\"MYA\",\"car\":{\"signs\":[\"BUR\"],\"side\":\"right\"},\"timezones\":[\"UTC+06:30\"],\"continents\":[\"Asia\"],\"flags\":{\"png\":\"https://flagcdn.com/w320/mm.png\",\"svg\":\"https://flagcdn.com/mm.svg\",\"alt\":\"The flag of Myanmar is composed of three equal horizontal bands of yellow, green and red, with a large five-pointed white star superimposed at the center of the field.\"},\"coatOfArms\":{\"png\":\"https://mainfacts.com/media/images/coats_of_arms/mm.png\",\"svg\":\"https://mainfacts.com/media/images/coats_of_arms/mm.svg\"},\"startOfWeek\":\"monday\",\"capitalInfo\":{\"latlng\":[19.76,96.07]},\"postalCode\":{\"format\":\"#####\",\"regex\":\"^(\\\\d{5})$\"}}]\u001b[0m\n",
      "\n",
      "\u001b[1m> Finished chain.\u001b[0m\n"
     ]
    },
    {
     "data": {
      "text/plain": [
       "' Myanmar, also known as Burma, is a country located in South-Eastern Asia. It is officially known as the Republic of the Union of Myanmar and its capital is Naypyidaw. The official language is Burmese and the currency is the Burmese Kyat (MMK). The country has a population of 54,409,794 and its borders are Bangladesh, China, India, Laos, and Thailand.'"
      ]
     },
     "execution_count": 4,
     "metadata": {},
     "output_type": "execute_result"
    }
   ],
   "source": [
    "chain_new.run('你们告诉我有关缅甸的信息吗?')"
   ]
  },
  {
   "cell_type": "code",
   "execution_count": 6,
   "id": "d0fe9ebc",
   "metadata": {},
   "outputs": [
    {
     "name": "stdout",
     "output_type": "stream",
     "text": [
      "\n",
      "\n",
      "\u001b[1m> Entering new APIChain chain...\u001b[0m\n",
      "\u001b[32;1m\u001b[1;3m https://restcountries.com/v3.1/currency/CNY\u001b[0m\n",
      "\u001b[33;1m\u001b[1;3m[{\"name\":{\"common\":\"China\",\"official\":\"People's Republic of China\",\"nativeName\":{\"zho\":{\"official\":\"中华人民共和国\",\"common\":\"中国\"}}},\"tld\":[\".cn\",\".中国\",\".中國\",\".公司\",\".网络\"],\"cca2\":\"CN\",\"ccn3\":\"156\",\"cca3\":\"CHN\",\"cioc\":\"CHN\",\"independent\":true,\"status\":\"officially-assigned\",\"unMember\":true,\"currencies\":{\"CNY\":{\"name\":\"Chinese yuan\",\"symbol\":\"¥\"}},\"idd\":{\"root\":\"+8\",\"suffixes\":[\"6\"]},\"capital\":[\"Beijing\"],\"altSpellings\":[\"CN\",\"Zhōngguó\",\"Zhongguo\",\"Zhonghua\",\"People's Republic of China\",\"中华人民共和国\",\"Zhōnghuá Rénmín Gònghéguó\"],\"region\":\"Asia\",\"subregion\":\"Eastern Asia\",\"languages\":{\"zho\":\"Chinese\"},\"translations\":{\"ara\":{\"official\":\"جمهورية الصين الشعبية\",\"common\":\"الصين\"},\"bre\":{\"official\":\"Republik Pobl Sina\",\"common\":\"Sina\"},\"ces\":{\"official\":\"Čínská lidová republika\",\"common\":\"Čína\"},\"cym\":{\"official\":\"Gweriniaeth Pobl Tsieina\",\"common\":\"Tsieina\"},\"deu\":{\"official\":\"Volksrepublik China\",\"common\":\"China\"},\"est\":{\"official\":\"Hiina Rahvavabariik\",\"common\":\"Hiina\"},\"fin\":{\"official\":\"Kiinan kansantasavalta\",\"common\":\"Kiina\"},\"fra\":{\"official\":\"République populaire de Chine\",\"common\":\"Chine\"},\"hrv\":{\"official\":\"Narodna Republika Kina\",\"common\":\"Kina\"},\"hun\":{\"official\":\"Kínai Népköztársaság\",\"common\":\"Kína\"},\"ita\":{\"official\":\"Repubblica popolare cinese\",\"common\":\"Cina\"},\"jpn\":{\"official\":\"中華人民共和国\",\"common\":\"中国\"},\"kor\":{\"official\":\"중화인민공화국\",\"common\":\"중국\"},\"nld\":{\"official\":\"Volksrepubliek China\",\"common\":\"China\"},\"per\":{\"official\":\"جمهوری خلق چین\",\"common\":\"چین\"},\"pol\":{\"official\":\"Chińska Republika Ludowa\",\"common\":\"Chiny\"},\"por\":{\"official\":\"República Popular da China\",\"common\":\"China\"},\"rus\":{\"official\":\"Народная Республика Китай\",\"common\":\"Китай\"},\"slk\":{\"official\":\"Čínska ľudová republika\",\"common\":\"Čína\"},\"spa\":{\"official\":\"República Popular de China\",\"common\":\"China\"},\"srp\":{\"official\":\"Народна Република Кина\",\"common\":\"Кина\"},\"swe\":{\"official\":\"Folkrepubliken Kina\",\"common\":\"Kina\"},\"tur\":{\"official\":\"Çin Halk Cumhuriyeti\",\"common\":\"Çin\"},\"urd\":{\"official\":\"عوامی جمہوریہ چین\",\"common\":\"چین\"}},\"latlng\":[35.0,105.0],\"landlocked\":false,\"borders\":[\"AFG\",\"BTN\",\"MMR\",\"HKG\",\"IND\",\"KAZ\",\"NPL\",\"PRK\",\"KGZ\",\"LAO\",\"MAC\",\"MNG\",\"PAK\",\"RUS\",\"TJK\",\"VNM\"],\"area\":9706961.0,\"demonyms\":{\"eng\":{\"f\":\"Chinese\",\"m\":\"Chinese\"},\"fra\":{\"f\":\"Chinoise\",\"m\":\"Chinois\"}},\"flag\":\"\\uD83C\\uDDE8\\uD83C\\uDDF3\",\"maps\":{\"googleMaps\":\"https://goo.gl/maps/p9qC6vgiFRRXzvGi7\",\"openStreetMaps\":\"https://www.openstreetmap.org/relation/270056\"},\"population\":1402112000,\"gini\":{\"2016\":38.5},\"fifa\":\"CHN\",\"car\":{\"signs\":[\"RC\"],\"side\":\"right\"},\"timezones\":[\"UTC+08:00\"],\"continents\":[\"Asia\"],\"flags\":{\"png\":\"https://flagcdn.com/w320/cn.png\",\"svg\":\"https://flagcdn.com/cn.svg\",\"alt\":\"The flag of China has a red field. In the canton are five yellow five-pointed stars — a large star and four smaller stars arranged in a vertical arc on the fly side of the large star.\"},\"coatOfArms\":{\"png\":\"https://mainfacts.com/media/images/coats_of_arms/cn.png\",\"svg\":\"https://mainfacts.com/media/images/coats_of_arms/cn.svg\"},\"startOfWeek\":\"monday\",\"capitalInfo\":{\"latlng\":[39.92,116.38]},\"postalCode\":{\"format\":\"######\",\"regex\":\"^(\\\\d{6})$\"}}]\u001b[0m\n",
      "\n",
      "\u001b[1m> Finished chain.\u001b[0m\n"
     ]
    },
    {
     "data": {
      "text/plain": [
       "' The currency of China is the Chinese Yuan (CNY), symbolized by the ¥ symbol.'"
      ]
     },
     "execution_count": 6,
     "metadata": {},
     "output_type": "execute_result"
    }
   ],
   "source": [
    "chain_new.run('你能告诉我有关CNY货币的信息吗?')"
   ]
  },
  {
   "cell_type": "code",
   "execution_count": null,
   "id": "9d4e7343",
   "metadata": {},
   "outputs": [],
   "source": []
  }
 ],
 "metadata": {
  "kernelspec": {
   "display_name": "Python 3 (ipykernel)",
   "language": "python",
   "name": "python3"
  },
  "language_info": {
   "codemirror_mode": {
    "name": "ipython",
    "version": 3
   },
   "file_extension": ".py",
   "mimetype": "text/x-python",
   "name": "python",
   "nbconvert_exporter": "python",
   "pygments_lexer": "ipython3",
   "version": "3.9.6"
  }
 },
 "nbformat": 4,
 "nbformat_minor": 5
}
