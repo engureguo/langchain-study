{
 "cells": [
  {
   "cell_type": "markdown",
   "id": "64c8f2b3",
   "metadata": {},
   "source": [
    "## 简单的问答示例"
   ]
  },
  {
   "cell_type": "code",
   "execution_count": 1,
   "id": "edf8ae07",
   "metadata": {},
   "outputs": [],
   "source": [
    "import os\n",
    "\n",
    "from dotenv import load_dotenv, find_dotenv\n",
    "_ = load_dotenv(find_dotenv())"
   ]
  },
  {
   "cell_type": "code",
   "execution_count": 5,
   "id": "5f702793",
   "metadata": {},
   "outputs": [],
   "source": [
    "from langchain.chat_models import ChatOpenAI\n",
    "from langchain.schema import HumanMessage, SystemMessage, AIMessage\n",
    "\n",
    "chat = ChatOpenAI(temperature=0, model_name=\"gpt-3.5-turbo\")"
   ]
  },
  {
   "cell_type": "code",
   "execution_count": 6,
   "id": "a3510fbf",
   "metadata": {},
   "outputs": [],
   "source": [
    "context = \"\"\"\n",
    "1.可口可乐价格4元\n",
    "2.百事可乐价格4.5元\n",
    "3.雪碧价格3.5元\n",
    "4.脉动价格6元\n",
    "5.农夫山泉价格2元\n",
    "6.果粒橙价格5元\n",
    "\n",
    "\"\"\"\n",
    "\n",
    "question = \"从中找一个最贵的饮料\""
   ]
  },
  {
   "cell_type": "code",
   "execution_count": 8,
   "id": "e9554d39",
   "metadata": {},
   "outputs": [
    {
     "data": {
      "text/plain": [
       "AIMessage(content='脉动价格6元是最贵的饮料。', additional_kwargs={}, example=False)"
      ]
     },
     "execution_count": 8,
     "metadata": {},
     "output_type": "execute_result"
    }
   ],
   "source": [
    "prompt = context + question\n",
    "\n",
    "chat([\n",
    "    SystemMessage(content=prompt)\n",
    "])"
   ]
  },
  {
   "cell_type": "markdown",
   "id": "51aa6a40",
   "metadata": {},
   "source": [
    "## 使用嵌入（长文本）\n",
    "\n",
    "随着复杂性的提高，我们将更多的利用这个约定。当你需要选择将哪些数据放入上下文中时，困难的部分就出现了。这个研究领域被称为 “文档检索”，并于 AI Memory 紧密结合。\n"
   ]
  },
  {
   "cell_type": "code",
   "execution_count": 16,
   "id": "bd46b6c6",
   "metadata": {},
   "outputs": [],
   "source": [
    "from langchain.chat_models import ChatOpenAI\n",
    "# 向量存储\n",
    "from langchain.vectorstores import FAISS\n",
    "# 问答链\n",
    "from langchain.chains import RetrievalQA\n",
    "# 文本文档加载器\n",
    "from langchain.document_loaders import TextLoader\n",
    "# 文本分割器\n",
    "from langchain.text_splitter import RecursiveCharacterTextSplitter\n",
    "# 嵌入引擎：将文本转为向量\n",
    "from langchain.embeddings.openai import OpenAIEmbeddings\n",
    "\n",
    "chat = ChatOpenAI()"
   ]
  },
  {
   "cell_type": "code",
   "execution_count": 51,
   "id": "dce8c61c",
   "metadata": {},
   "outputs": [
    {
     "name": "stdout",
     "output_type": "stream",
     "text": [
      "doc num: 1\n",
      "character num of all: [40556]\n"
     ]
    }
   ],
   "source": [
    "# 创建文档加载器\n",
    "loader = TextLoader('data/vul-scan.txt', encoding='utf-8')# https://www.intruder.io/guides/the-ultimate-guide-to-vulnerability-scanning\n",
    "# 加载文档\n",
    "documents = loader.load()\n",
    "\n",
    "print(f\"doc num: {len(documents)}\\ncharacter num of all: {[len(doc.page_content) for doc in documents]}\")"
   ]
  },
  {
   "cell_type": "code",
   "execution_count": 52,
   "id": "c026ccd2",
   "metadata": {},
   "outputs": [
    {
     "name": "stdout",
     "output_type": "stream",
     "text": [
      "length of all splitted text segment: [1875, 1938, 1273, 1957, 1780, 1852, 1573, 1992, 1884, 1571, 1671, 1523, 1849, 1399, 1927, 1737, 1374, 1676, 1550, 1759, 1991, 1757, 1732, 1507]\n",
      "avg length: 1714.4583333333333\n"
     ]
    }
   ],
   "source": [
    "# 创建分割器\n",
    "text_splitter = RecursiveCharacterTextSplitter(chunk_size=2000, chunk_overlap=200)\n",
    "# 使用分割器进行分割\n",
    "splitted_docs = text_splitter.split_documents(documents)\n",
    "\n",
    "len_arr = [len(d.page_content) for d in splitted_docs]\n",
    "print(f\"length of all splitted text segment: {len_arr}\\navg length: {sum(len_arr) / len(len_arr)}\")"
   ]
  },
  {
   "cell_type": "code",
   "execution_count": 53,
   "id": "95f7cbb7",
   "metadata": {},
   "outputs": [],
   "source": [
    "# 创建嵌入引擎\n",
    "embeddings = OpenAIEmbeddings()\n",
    "# 嵌入文档并与为数据库中的原始文本结合。会调用 OpenAI 的 API\n",
    "doc_search = FAISS.from_documents(splitted_docs, embeddings)"
   ]
  },
  {
   "cell_type": "code",
   "execution_count": 54,
   "id": "d85c1c77",
   "metadata": {},
   "outputs": [],
   "source": [
    "# 创建检索引擎。检索器会获取类似的文本，并结合问题让 LLM 进行推理。\n",
    "qa = RetrievalQA.from_chain_type(chat, chain_type='stuff', retriever=doc_search.as_retriever())"
   ]
  },
  {
   "cell_type": "code",
   "execution_count": 58,
   "id": "3365371b",
   "metadata": {},
   "outputs": [
    {
     "name": "stdout",
     "output_type": "stream",
     "text": [
      "主要的漏洞扫描器类型包括：\n",
      "\n",
      "1. 网络漏洞扫描器：用于检测网络设备、服务器和操作系统上的漏洞，包括已知的安全漏洞和配置错误。\n",
      "\n",
      "2. Web应用程序漏洞扫描器：专注于发现Web应用程序和网站中的漏洞，例如SQL注入、跨站脚本等。\n",
      "\n",
      "3. 主机漏洞扫描器：用于检测主机上的操作系统和应用程序的漏洞，包括缺少安全补丁、弱密码等。\n",
      "\n",
      "4. 移动应用程序漏洞扫描器：专门用于检测移动应用程序中的漏洞，例如不安全的数据存储、不正确的权限控制等。\n",
      "\n",
      "5. 数据库漏洞扫描器：用于检测数据库服务器上的漏洞，例如未授权访问、弱密码等。\n",
      "\n",
      "6. 工控系统漏洞扫描器：专门用于检测工业控制系统中的漏洞，例如SCADA系统、PLC等。\n",
      "\n",
      "请注意，不同的漏洞扫描器可能具有不同的功能和特点，你需要根据自己的需求选择适合的扫描器。\n"
     ]
    }
   ],
   "source": [
    "print(qa.run('漏洞扫描器类型有哪些?'))"
   ]
  },
  {
   "cell_type": "code",
   "execution_count": 57,
   "id": "3527bedf",
   "metadata": {},
   "outputs": [
    {
     "name": "stdout",
     "output_type": "stream",
     "text": [
      "文中并没有具体推荐扫描工具，但文中提到了Intruder，他们提供了免费试用的在线漏洞扫描工具。您可以通过访问他们的网站来了解更多信息。\n"
     ]
    }
   ],
   "source": [
    "print(qa.run('文中推荐的漏洞扫描工具？'))"
   ]
  },
  {
   "cell_type": "code",
   "execution_count": 59,
   "id": "eb326772",
   "metadata": {},
   "outputs": [
    {
     "name": "stdout",
     "output_type": "stream",
     "text": [
      "漏洞扫描工具适用于所有规模的企业和组织。无论是大型企业还是中小型企业，都应该考虑到网络安全威胁，并制定相应的安全策略。最近英国政府的一项调查显示，近两年中有61%的中大型企业和38%的小型企业都遭受了网络攻击或数据泄露。因此，无论企业规模大小，都应该认识到存在的网络安全威胁，并采取相应的措施。\n",
      "\n",
      "漏洞扫描工具可以帮助组织发现最严重、最容易受攻击的技术弱点，以便在攻击者利用之前采取措施。对于所有企业来说，了解其网络安全漏洞的位置并进行修复都是非常重要的。\n"
     ]
    }
   ],
   "source": [
    "print(qa.run(\"漏洞扫描工具适合哪些人？\"))"
   ]
  },
  {
   "cell_type": "markdown",
   "id": "0d2f99b4",
   "metadata": {},
   "source": [
    "## 问答结果评估"
   ]
  },
  {
   "cell_type": "code",
   "execution_count": 73,
   "id": "6dfa4e3c",
   "metadata": {},
   "outputs": [],
   "source": [
    "from langchain.evaluation.qa import QAEvalChain\n",
    "\n",
    "# 给定问题和答案1，将这里的答案视为“标准答案”\n",
    "question_answers = [\n",
    "    {'question': '漏洞扫描工具适合哪些人', 'answer': '漏洞扫描工具仅适用于个人'},\n",
    "    {'question': '文中推荐的漏洞扫描工具', 'answer': '文中没有推荐漏洞扫描工具'}\n",
    "]"
   ]
  },
  {
   "cell_type": "code",
   "execution_count": 74,
   "id": "c4bcf6ce",
   "metadata": {},
   "outputs": [
    {
     "data": {
      "text/plain": [
       "[{'question': '漏洞扫描工具适合哪些人',\n",
       "  'answer': '漏洞扫描工具仅适用于个人',\n",
       "  'result': '漏洞扫描工具适合所有规模的企业和组织。尽管新闻头条通常关注影响大型组织的最大安全漏洞，但这并不意味着小型企业就安全了。根据英国政府最近的一项调查，近三分之二（61%）的中大型企业在过去12个月中发现了网络攻击。小型企业也不例外，其中38%报告了攻击或数据泄露事件。这些调查结果表明，各种规模的企业都应该考虑存在的威胁，并制定一套能够应对这些威胁的安全策略。\\n\\n几乎所有规模的企业都依赖技术来运营，无论是通过网站提供营销或博客内容，还是运行面向互联网的应用程序或服务，甚至是员工用于工作的笔记本电脑。所有这些系统都构成了黑客攻击的目标。成功的入侵可能导致勒索软件攻击，甚至是对不太敏感的数据（如姓名和地址）的泄露，这可能导致客户流失或面临重罚款。\\n\\n因此，每个企业都应该了解其网络漏洞所在，并及时修复。漏洞扫描工具可以帮助企业识别其最严重和最容易受攻击的技术漏洞，以便能够在攻击者利用之前采取行动。'},\n",
       " {'question': '文中推荐的漏洞扫描工具',\n",
       "  'answer': '文中没有推荐漏洞扫描工具',\n",
       "  'result': '在这篇文章中没有具体提到或推荐任何特定的漏洞扫描工具。文章的目的是提供有关漏洞扫描的最佳实践和功能的信息，以帮助读者选择适合自己需求的漏洞扫描工具。读者可以根据自己的需求和预算来选择适合自己的漏洞扫描工具。'}]"
      ]
     },
     "execution_count": 74,
     "metadata": {},
     "output_type": "execute_result"
    }
   ],
   "source": [
    "chain = RetrievalQA.from_chain_type(chat, \n",
    "                                    chain_type='stuff', \n",
    "                                    retriever=doc_search.as_retriever(), \n",
    "                                    input_key=\"question\") # 指定【输入键】\n",
    "\n",
    "# 进行问答，得到答案2，将这里的答案视为“参考答案”\n",
    "predictions = chain.apply(question_answers)\n",
    "predictions"
   ]
  },
  {
   "cell_type": "code",
   "execution_count": 76,
   "id": "61e7eaad",
   "metadata": {},
   "outputs": [
    {
     "data": {
      "text/plain": [
       "[{'results': 'INCORRECT'}, {'results': 'CORRECT'}]"
      ]
     },
     "execution_count": 76,
     "metadata": {},
     "output_type": "execute_result"
    }
   ],
   "source": [
    "# 创建评估链\n",
    "eval_chain = QAEvalChain.from_llm(chat)\n",
    "\n",
    "# 进行评估。评估 LLM回复的结果 与指定的结果 的相似度\n",
    "eval_chain.evaluate(question_answers,\n",
    "                   predictions,\n",
    "                   question_key=\"question\",\n",
    "                   answer_key=\"answer\",\n",
    "                   prediction_key=\"result\")"
   ]
  }
 ],
 "metadata": {
  "kernelspec": {
   "display_name": "Python 3 (ipykernel)",
   "language": "python",
   "name": "python3"
  },
  "language_info": {
   "codemirror_mode": {
    "name": "ipython",
    "version": 3
   },
   "file_extension": ".py",
   "mimetype": "text/x-python",
   "name": "python",
   "nbconvert_exporter": "python",
   "pygments_lexer": "ipython3",
   "version": "3.9.6"
  }
 },
 "nbformat": 4,
 "nbformat_minor": 5
}
