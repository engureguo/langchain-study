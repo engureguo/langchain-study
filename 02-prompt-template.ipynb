{
 "cells": [
  {
   "cell_type": "markdown",
   "id": "69877d5a",
   "metadata": {},
   "source": [
    "### Prompt"
   ]
  },
  {
   "cell_type": "code",
   "execution_count": null,
   "id": "654b2577",
   "metadata": {},
   "outputs": [],
   "source": [
    "import os\n",
    "\n",
    "from dotenv import load_dotenv, find_dotenv\n",
    "_ = load_dotenv(find_dotenv())"
   ]
  },
  {
   "cell_type": "code",
   "execution_count": 10,
   "id": "819d077e",
   "metadata": {},
   "outputs": [],
   "source": [
    "from langchain.chat_models import ChatOpenAI\n",
    "from langchain.schema import HumanMessage, SystemMessage, AIMessage\n",
    "\n",
    "chat = ChatOpenAI(temperature = .7)"
   ]
  },
  {
   "cell_type": "code",
   "execution_count": 11,
   "id": "dd30177f",
   "metadata": {},
   "outputs": [
    {
     "data": {
      "text/plain": [
       "AIMessage(content='这个说法有问题，因为星期一之后应该是星期二，而不是星期三。', additional_kwargs={}, example=False)"
      ]
     },
     "execution_count": 11,
     "metadata": {},
     "output_type": "execute_result"
    }
   ],
   "source": [
    "prompt = '''\n",
    "今天是星期一，明天是星期三。这个说法有什么问题吗？\n",
    "'''\n",
    "\n",
    "chat([HumanMessage(content=prompt)])"
   ]
  },
  {
   "cell_type": "markdown",
   "id": "f56d78f0",
   "metadata": {},
   "source": [
    "### 通过提示模板(prompt template)编写提示(prompt)"
   ]
  },
  {
   "cell_type": "code",
   "execution_count": 12,
   "id": "26162b45",
   "metadata": {},
   "outputs": [],
   "source": [
    "from langchain import PromptTemplate"
   ]
  },
  {
   "cell_type": "code",
   "execution_count": 25,
   "id": "3b5b5ac8",
   "metadata": {},
   "outputs": [],
   "source": [
    "# 编写模板\n",
    "template = '''\n",
    "我真的很想去{location}，我应该在哪里做什么？\n",
    "'''\n",
    "\n",
    "prompt = PromptTemplate(\n",
    "    input_variables=[\"location\"],\n",
    "    template=template\n",
    ")"
   ]
  },
  {
   "cell_type": "code",
   "execution_count": 30,
   "id": "73df0276",
   "metadata": {},
   "outputs": [
    {
     "data": {
      "text/plain": [
       "[HumanMessage(content='我真的很想去河南南阳，我应该在哪里做什么？', additional_kwargs={}, example=False)]"
      ]
     },
     "execution_count": 30,
     "metadata": {},
     "output_type": "execute_result"
    }
   ],
   "source": [
    "# 根据【提示词模板】获取【提示】\n",
    "final_prompt = prompt.format_prompt(location = '河南南阳').to_messages()\n",
    "final_prompt"
   ]
  },
  {
   "cell_type": "code",
   "execution_count": 31,
   "id": "366d1a62",
   "metadata": {},
   "outputs": [
    {
     "data": {
      "text/plain": [
       "AIMessage(content='南阳市位于河南省中部，是一座历史悠久、文化底蕴深厚的城市。如果你想去南阳旅游，以下是一些建议的活动和地点：\\n\\n1. 拜访南阳博物馆：南阳博物馆是全国重点博物馆之一，收藏有大量的历史文物和艺术品。你可以在这里了解南阳的历史和文化。\\n\\n2. 游览姓氏文化园：南阳是中国姓氏起源研究的重要地区，姓氏文化园集中展示了各种姓氏的历史和传统。你可以找到自己的姓氏起源和发展。\\n\\n3. 参观关公文化园：南阳是中国关公文化的发源地，关公文化园是一个专门纪念关羽的景区。你可以欣赏到雄伟的关公雕像和了解关公的故事。\\n\\n4. 品尝南阳美食：南阳有许多有名的美食，如烩面、烩饼、豆皮等。你可以在当地的小吃摊或餐馆品尝正宗的南阳美食。\\n\\n5. 欣赏南阳夜景：南阳的夜景美丽迷人，特别是位于汉江边的河南南阳灯光大道。你可以在晚上散步或乘船欣赏夜景。\\n\\n除了以上建议，你还可以根据自己的兴趣和需求做更多的探索，例如参观其他历史遗迹、体验当地传统手工艺等。记得提前做好行程规划和准备，以确保你能充分享受南阳之旅。', additional_kwargs={}, example=False)"
      ]
     },
     "execution_count": 31,
     "metadata": {},
     "output_type": "execute_result"
    }
   ],
   "source": [
    "chat(final_prompt)"
   ]
  },
  {
   "cell_type": "code",
   "execution_count": null,
   "id": "54c1a975",
   "metadata": {},
   "outputs": [],
   "source": []
  }
 ],
 "metadata": {
  "kernelspec": {
   "display_name": "Python 3 (ipykernel)",
   "language": "python",
   "name": "python3"
  },
  "language_info": {
   "codemirror_mode": {
    "name": "ipython",
    "version": 3
   },
   "file_extension": ".py",
   "mimetype": "text/x-python",
   "name": "python",
   "nbconvert_exporter": "python",
   "pygments_lexer": "ipython3",
   "version": "3.9.6"
  }
 },
 "nbformat": 4,
 "nbformat_minor": 5
}
