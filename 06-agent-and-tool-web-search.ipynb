{
 "cells": [
  {
   "cell_type": "markdown",
   "id": "ea1dc6b2",
   "metadata": {},
   "source": [
    "# 代理\n",
    "\n",
    "代理的官方描述：\n",
    "\n",
    "某些应用程序不仅需要预先确定的对 LLM/其他工具的调用链，还可能需要依赖于用于输入的未知链。在这些类型的链中，有一个 ”代理“ 可以访问一套工具。根据用户输入，代理可以决定调用这些工具中的哪一个（如果有的话）\n",
    "\n",
    "基本上，你不仅将 LLM 用于文本输出，还用于决策制定。此功能的炫酷和强大怎么强调都不为过。\n",
    "\n",
    "## Agents\n",
    "\n",
    "Agents use an LLM to determine which actions to take and in what order. An action can either be using a tool and observing its output, or returning a response to the user. Here are the agents available in LangChain：[agent-types](https://python.langchain.com/docs/modules/agents/agent_types/)\n",
    "\n",
    "## Tools\n",
    "\n",
    "代理的能力。这是一个函数值上的抽象，使 LLM（和代理）可以轻松地与之交互。例如：谷歌搜索\n",
    "\n",
    "该领域与 OpenAI 插件具有共同点"
   ]
  },
  {
   "cell_type": "code",
   "execution_count": null,
   "id": "af13ba36",
   "metadata": {},
   "outputs": [],
   "source": [
    "import os\n",
    "\n",
    "from dotenv import load_dotenv, find_dotenv\n",
    "_ = load_dotenv(find_dotenv())"
   ]
  },
  {
   "cell_type": "code",
   "execution_count": 20,
   "id": "807c600d",
   "metadata": {},
   "outputs": [],
   "source": [
    "from langchain.agents import load_tools, initialize_agent\n",
    "from langchain.llms import OpenAI\n",
    "import json\n",
    "\n",
    "llm = OpenAI(temperature=0)"
   ]
  },
  {
   "cell_type": "code",
   "execution_count": 3,
   "id": "4709a463",
   "metadata": {},
   "outputs": [],
   "source": [
    "! pip install -q google-search-results"
   ]
  },
  {
   "cell_type": "code",
   "execution_count": 15,
   "id": "86f7b635",
   "metadata": {},
   "outputs": [],
   "source": [
    "# [ https://serpapi.com/ ]提供搜索api\n",
    "serp_api_key='29c4653529926d23eced73712de34a1c76db2f1508f2e3137aca57e889988de4'\n",
    "toolkit = load_tools([\"serpapi\"], llm=llm, serpapi_api_key=serp_api_key)"
   ]
  },
  {
   "cell_type": "code",
   "execution_count": 16,
   "id": "cdbc7a3a",
   "metadata": {},
   "outputs": [],
   "source": [
    "agent = initialize_agent(toolkit, llm, agent='zero-shot-react-description', \n",
    "                         verbose=True, return_intermediate_steps=True)"
   ]
  },
  {
   "cell_type": "code",
   "execution_count": 29,
   "id": "58f45337",
   "metadata": {},
   "outputs": [
    {
     "name": "stdout",
     "output_type": "stream",
     "text": [
      "\n",
      "\n",
      "\u001b[1m> Entering new AgentExecutor chain...\u001b[0m\n",
      "\u001b[32;1m\u001b[1;3m I should try to find out what XU Song's first album was.\n",
      "Action: Search\n",
      "Action Input: 许嵩第一张专辑\u001b[0m\n",
      "Observation: \u001b[36;1m\u001b[1;3m尋霧啟示\u001b[0m\n",
      "Thought:\u001b[32;1m\u001b[1;3m This looks like the right answer.\n",
      "Final Answer: 尋霧啟示\u001b[0m\n",
      "\n",
      "\u001b[1m> Finished chain.\u001b[0m\n"
     ]
    }
   ],
   "source": [
    "resp = agent({'input': \"许嵩第一张专辑是什么?\"})"
   ]
  },
  {
   "cell_type": "code",
   "execution_count": null,
   "id": "fc5d0956",
   "metadata": {},
   "outputs": [],
   "source": []
  }
 ],
 "metadata": {
  "kernelspec": {
   "display_name": "Python 3 (ipykernel)",
   "language": "python",
   "name": "python3"
  },
  "language_info": {
   "codemirror_mode": {
    "name": "ipython",
    "version": 3
   },
   "file_extension": ".py",
   "mimetype": "text/x-python",
   "name": "python",
   "nbconvert_exporter": "python",
   "pygments_lexer": "ipython3",
   "version": "3.9.6"
  }
 },
 "nbformat": 4,
 "nbformat_minor": 5
}
