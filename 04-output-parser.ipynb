{
 "cells": [
  {
   "cell_type": "markdown",
   "id": "81f13aac",
   "metadata": {},
   "source": [
    "## 使用输出解析器格式化输出\n",
    "\n",
    "一种格式化模型输出的有用方法，通常用于结构化输出。\n",
    "\n",
    "两个概念：\n",
    "\n",
    "1. 格式说明：一个自动生成的提示，告诉 LLM 如何根据想要的结果格式化它的响应\n",
    "2. 解析器：一种将模型的文本输出提取到所需结构（通常为 json）的方法\n",
    "\n",
    "两种方式：\n",
    "\n",
    "1. 设置提示词中说明。\n",
    "2. 提取模型输出内容，转化为 json 格式"
   ]
  },
  {
   "cell_type": "code",
   "execution_count": 1,
   "id": "c9f45d31",
   "metadata": {},
   "outputs": [],
   "source": [
    "import os\n",
    "\n",
    "from dotenv import load_dotenv, find_dotenv\n",
    "_ = load_dotenv(find_dotenv())"
   ]
  },
  {
   "cell_type": "markdown",
   "id": "45813bc1",
   "metadata": {},
   "source": [
    "### 方法一：在提示词中说明"
   ]
  },
  {
   "cell_type": "code",
   "execution_count": 1,
   "id": "7aafb00f",
   "metadata": {},
   "outputs": [],
   "source": [
    "from langchain.output_parsers import StructuredOutputParser, ResponseSchema\n",
    "from langchain.prompts import ChatPromptTemplate, HumanMessagePromptTemplate\n",
    "from langchain.llms import OpenAI\n",
    "from langchain import PromptTemplate"
   ]
  },
  {
   "cell_type": "code",
   "execution_count": 2,
   "id": "167fe5c9",
   "metadata": {},
   "outputs": [
    {
     "name": "stdout",
     "output_type": "stream",
     "text": [
      "The output should be a markdown code snippet formatted in the following schema, including the leading and trailing \"```json\" and \"```\":\n",
      "\n",
      "```json\n",
      "{\n",
      "\t\"bad_string\": string  // 这是一个格式不正确的用户输入字符串\n",
      "\t\"good_string\": string  // 这是您的回复，重新格式化的回复\n",
      "}\n",
      "```\n"
     ]
    }
   ],
   "source": [
    "# 定义响应结构\n",
    "response_schemas = [\n",
    "    ResponseSchema(name='bad_string', description='这是一个格式不正确的用户输入字符串'),\n",
    "    ResponseSchema(name='good_string', description='这是您的回复，重新格式化的回复')\n",
    "]\n",
    "\n",
    "# 你想如何解析你的输出\n",
    "output_parser = StructuredOutputParser.from_response_schemas(response_schemas)\n",
    "\n",
    "# 查看用于【输出格式化】的提示模板\n",
    "format_instructions = output_parser.get_format_instructions()\n",
    "print(format_instructions)"
   ]
  },
  {
   "cell_type": "code",
   "execution_count": 3,
   "id": "01b4eb5b",
   "metadata": {},
   "outputs": [
    {
     "name": "stdout",
     "output_type": "stream",
     "text": [
      "\n",
      "您将从用户那里得到一个格式不正确的字符串。重新格式化并确保所有单词拼写正确\n",
      "\n",
      "The output should be a markdown code snippet formatted in the following schema, including the leading and trailing \"```json\" and \"```\":\n",
      "\n",
      "```json\n",
      "{\n",
      "\t\"bad_string\": string  // 这是一个格式不正确的用户输入字符串\n",
      "\t\"good_string\": string  // 这是您的回复，重新格式化的回复\n",
      "}\n",
      "```\n",
      "\n",
      "% 用户输入:\n",
      "我骑车去了昨天上海\n",
      "\n",
      "你的响应:\n",
      "\n"
     ]
    }
   ],
   "source": [
    "template=\"\"\"\n",
    "您将从用户那里得到一个格式不正确的字符串。重新格式化并确保所有单词拼写正确\n",
    "\n",
    "{format_instructions}\n",
    "\n",
    "% 用户输入:\n",
    "{user_input}\n",
    "\n",
    "你的响应:\n",
    "\"\"\"\n",
    "\n",
    "prompt = PromptTemplate(\n",
    "    template=template,\n",
    "    input_variables=[\"user_input\"],\n",
    "    partial_variables={\"format_instructions\": format_instructions}\n",
    ")\n",
    "\n",
    "final_prompt = prompt.format(user_input='我骑车去了昨天上海')\n",
    "print(final_prompt)"
   ]
  },
  {
   "cell_type": "code",
   "execution_count": 4,
   "id": "860c8767",
   "metadata": {},
   "outputs": [
    {
     "name": "stdout",
     "output_type": "stream",
     "text": [
      "```json\n",
      "{\n",
      "\t\"bad_string\": \"我骑车去了昨天上海\",\n",
      "\t\"good_string\": \"我昨天骑车去了上海\"\n",
      "}\n",
      "```\n"
     ]
    }
   ],
   "source": [
    "llm = OpenAI()\n",
    "\n",
    "result = llm(final_prompt)\n",
    "print(result)"
   ]
  },
  {
   "cell_type": "code",
   "execution_count": 5,
   "id": "c826a654",
   "metadata": {},
   "outputs": [
    {
     "data": {
      "text/plain": [
       "str"
      ]
     },
     "execution_count": 5,
     "metadata": {},
     "output_type": "execute_result"
    }
   ],
   "source": [
    "type(result)"
   ]
  },
  {
   "cell_type": "code",
   "execution_count": 9,
   "id": "7e8b72ce",
   "metadata": {},
   "outputs": [],
   "source": [
    "output_dict = output_parser.parse(result)"
   ]
  },
  {
   "cell_type": "code",
   "execution_count": 10,
   "id": "e019b227",
   "metadata": {},
   "outputs": [
    {
     "data": {
      "text/plain": [
       "{'bad_string': '我骑车去了昨天上海', 'good_string': '我昨天骑车去了上海'}"
      ]
     },
     "execution_count": 10,
     "metadata": {},
     "output_type": "execute_result"
    }
   ],
   "source": [
    "output_dict"
   ]
  },
  {
   "cell_type": "code",
   "execution_count": 11,
   "id": "8aa755b5",
   "metadata": {},
   "outputs": [
    {
     "data": {
      "text/plain": [
       "dict"
      ]
     },
     "execution_count": 11,
     "metadata": {},
     "output_type": "execute_result"
    }
   ],
   "source": [
    "type(output_dict)"
   ]
  },
  {
   "cell_type": "code",
   "execution_count": null,
   "id": "b7e0eec1",
   "metadata": {},
   "outputs": [],
   "source": []
  }
 ],
 "metadata": {
  "kernelspec": {
   "display_name": "Python 3 (ipykernel)",
   "language": "python",
   "name": "python3"
  },
  "language_info": {
   "codemirror_mode": {
    "name": "ipython",
    "version": 3
   },
   "file_extension": ".py",
   "mimetype": "text/x-python",
   "name": "python",
   "nbconvert_exporter": "python",
   "pygments_lexer": "ipython3",
   "version": "3.9.6"
  }
 },
 "nbformat": 4,
 "nbformat_minor": 5
}
