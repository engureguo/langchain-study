{
 "cells": [
  {
   "cell_type": "markdown",
   "id": "a58a0bc5",
   "metadata": {},
   "source": [
    "## 代码理解与编写\n",
    "\n",
    "*[LangChain Code Understanding Docs](https://python.langchain.com/docs/use_cases/code_understanding)*\n",
    "\n",
    "One of the most exciting abilities of LLMs is code undestanding. People around the world are leveling up their output in both speed & quality due to AI help. A big part of this is having a LLM that can understand code and help you with a particular task.\n",
    "\n",
    "* **Deep Dive** - Coming Soon\n",
    "* **Examples** - TBD\n",
    "* **Use Cases:** Co-Pilot-esque functionality that can help answer questions from a specific library, help you generate new code\n"
   ]
  },
  {
   "cell_type": "code",
   "execution_count": null,
   "id": "cb16a72b",
   "metadata": {},
   "outputs": [],
   "source": [
    "import os\n",
    "\n",
    "from dotenv import load_dotenv, find_dotenv\n",
    "_ = load_dotenv(find_dotenv())"
   ]
  },
  {
   "cell_type": "code",
   "execution_count": 15,
   "id": "112694eb",
   "metadata": {},
   "outputs": [],
   "source": [
    "import os\n",
    "# 向量存储\n",
    "from langchain.vectorstores import FAISS\n",
    "from langchain.embeddings.openai import OpenAIEmbeddings\n",
    "# 模型\n",
    "from langchain.chat_models import ChatOpenAI\n",
    "# 文本处理\n",
    "from langchain.text_splitter import CharacterTextSplitter\n",
    "from langchain.document_loaders import TextLoader\n",
    "# 问答链\n",
    "from langchain.chains import RetrievalQA\n",
    "\n",
    "chat = ChatOpenAI()"
   ]
  },
  {
   "cell_type": "code",
   "execution_count": 16,
   "id": "cd4b598e",
   "metadata": {},
   "outputs": [],
   "source": [
    "embeddings = OpenAIEmbeddings(disallowed_special=())"
   ]
  },
  {
   "cell_type": "code",
   "execution_count": 17,
   "id": "153514d8",
   "metadata": {},
   "outputs": [],
   "source": [
    "root_dir = 'data/thefuzz/thefuzz' # git clone https://github.com/seatgeek/thefuzz\n",
    "docs = []\n",
    "\n",
    "# 浏览每个文件夹\n",
    "for dirpath, dirnames, filenames in os.walk(root_dir):\n",
    "    \n",
    "    # 浏览每个文件\n",
    "    for file in filenames:\n",
    "        try: \n",
    "            # 将文件加载为doc并进行分割\n",
    "            loader = TextLoader(os.path.join(dirpath, file), encoding='utf-8')\n",
    "            docs.extend(loader.load_and_split())\n",
    "        except Exception as e: \n",
    "            pass"
   ]
  },
  {
   "cell_type": "code",
   "execution_count": 18,
   "id": "8b195e2e",
   "metadata": {},
   "outputs": [
    {
     "name": "stdout",
     "output_type": "stream",
     "text": [
      "有 11 个文档\n",
      "\n",
      "------ 文档开头部分 ------\n",
      "from collections.abc import Mapping\n",
      "import typing\n",
      "from typing import Any, Callable, Union, Tuple, Generator, TypeVar, Sequence\n",
      "\n",
      "\n",
      "ChoicesT = Union[Mapping[str, str], Sequence[str]]\n",
      "T = TypeVar('T')\n",
      "ProcessorT = Union[Callable[[str, bool], str], Callable[[Any], Any]]\n",
      "ScorerT = Callable[[str, str, bool\n"
     ]
    }
   ],
   "source": [
    "print (f\"有 {len(docs)} 个文档\\n\")\n",
    "print (\"------ 文档开头部分 ------\")\n",
    "print (docs[0].page_content[:300])"
   ]
  },
  {
   "cell_type": "markdown",
   "id": "8c352dc3",
   "metadata": {},
   "source": [
    "Embed and store them in a docstore. This will make an API call to OpenAI"
   ]
  },
  {
   "cell_type": "code",
   "execution_count": 19,
   "id": "767b6dd4",
   "metadata": {},
   "outputs": [],
   "source": [
    "docsearch = FAISS.from_documents(docs, embeddings)"
   ]
  },
  {
   "cell_type": "code",
   "execution_count": 21,
   "id": "5cb67714",
   "metadata": {},
   "outputs": [],
   "source": [
    "# Get our retriever ready\n",
    "qa = RetrievalQA.from_chain_type(llm=chat, chain_type=\"stuff\", retriever=docsearch.as_retriever())"
   ]
  },
  {
   "cell_type": "code",
   "execution_count": 25,
   "id": "aeb9595d",
   "metadata": {},
   "outputs": [
    {
     "name": "stdout",
     "output_type": "stream",
     "text": [
      "您可以使用`extractOne`函数来找到在选项列表中分数最高的匹配项。该函数将返回一个包含匹配项和分数的元组。\n"
     ]
    }
   ],
   "source": [
    "query = \"如果我想在选项列表中找到分数上的最佳匹配项，我该使用什么函数?\"\n",
    "output = qa.run(query)\n",
    "print(output)"
   ]
  },
  {
   "cell_type": "code",
   "execution_count": 26,
   "id": "48d8129c",
   "metadata": {},
   "outputs": [
    {
     "name": "stdout",
     "output_type": "stream",
     "text": [
      "from fuzzywuzzy import process\n",
      "\n",
      "choices = [\"apple\", \"banana\", \"orange\"]\n",
      "query = \"appel\"\n",
      "result = process.extractOne(query, choices)\n",
      "print(result)\n"
     ]
    }
   ],
   "source": [
    "query = \"请编写代码使用 process.extractOne() 函数? 只回复代码，不要回复其他文字或解释\"\n",
    "output = qa.run(query)\n",
    "print(output)"
   ]
  },
  {
   "cell_type": "code",
   "execution_count": null,
   "id": "ee526826",
   "metadata": {},
   "outputs": [],
   "source": []
  }
 ],
 "metadata": {
  "kernelspec": {
   "display_name": "Python 3 (ipykernel)",
   "language": "python",
   "name": "python3"
  },
  "language_info": {
   "codemirror_mode": {
    "name": "ipython",
    "version": 3
   },
   "file_extension": ".py",
   "mimetype": "text/x-python",
   "name": "python",
   "nbconvert_exporter": "python",
   "pygments_lexer": "ipython3",
   "version": "3.9.6"
  }
 },
 "nbformat": 4,
 "nbformat_minor": 5
}
