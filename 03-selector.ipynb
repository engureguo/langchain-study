{
 "cells": [
  {
   "cell_type": "code",
   "execution_count": null,
   "id": "b6e3a1e8",
   "metadata": {},
   "outputs": [],
   "source": [
    "import os\n",
    "\n",
    "from dotenv import load_dotenv, find_dotenv\n",
    "_ = load_dotenv(find_dotenv())"
   ]
  },
  {
   "cell_type": "markdown",
   "id": "32aa61e9",
   "metadata": {},
   "source": [
    "## 示例选择器生成精准提示词\n",
    "\n",
    "1. 准备示例\n",
    "2. 计算示例的语义相似度\n",
    "3. 使用 FewShotPromptTemplate，根据 2. 获得的相似度获取 prompt\n",
    "4. 根据 prompt 获取结果"
   ]
  },
  {
   "cell_type": "code",
   "execution_count": 1,
   "id": "039e2336",
   "metadata": {},
   "outputs": [],
   "source": [
    "from langchain.prompts.example_selector import SemanticSimilarityExampleSelector\n",
    "from langchain.vectorstores import FAISS\n",
    "from langchain.embeddings import OpenAIEmbeddings\n",
    "from langchain.prompts import FewShotPromptTemplate, PromptTemplate\n",
    "from langchain.llms import OpenAI"
   ]
  },
  {
   "cell_type": "code",
   "execution_count": 24,
   "id": "72c7bbf5",
   "metadata": {},
   "outputs": [],
   "source": [
    "example_prompt = PromptTemplate(\n",
    "    template=\"示例输入:{input}\\n示例输出:{output}\",\n",
    "    input_variables=[\"input\", \"output\"]\n",
    ")\n",
    "\n",
    "examples = [\n",
    "    {\"input\":\"海盗\", \"output\":\"船\"},\n",
    "    {\"input\":\"飞行员\", \"output\":\"飞机\"},\n",
    "    {\"input\":\"驾驶员\", \"output\":\"汽车\"},\n",
    "    {\"input\":\"树\", \"output\":\"地面\"},\n",
    "    {\"input\":\"鸟\", \"output\":\"鸟巢\"},\n",
    "]"
   ]
  },
  {
   "cell_type": "code",
   "execution_count": 25,
   "id": "161d5656",
   "metadata": {},
   "outputs": [],
   "source": [
    "! pip install -q tiktoken faiss-cpu"
   ]
  },
  {
   "cell_type": "code",
   "execution_count": 26,
   "id": "cc636886",
   "metadata": {},
   "outputs": [],
   "source": [
    "# 计算提供的示例的语义相似度\n",
    "example_selector = SemanticSimilarityExampleSelector.from_examples(\n",
    "    # List of examples to use in the prompt\n",
    "    examples,\n",
    "    \n",
    "    # An initialized embedding API interface, 用于测量语义相似性\n",
    "    OpenAIEmbeddings(),\n",
    "    \n",
    "    # A vector store DB interface class, 用于存储嵌入和进行相似性搜索的 VectorStore 类\n",
    "    FAISS,\n",
    "    \n",
    "    # 生成的示例数\n",
    "    k=2\n",
    ")"
   ]
  },
  {
   "cell_type": "code",
   "execution_count": 27,
   "id": "0e05dceb",
   "metadata": {},
   "outputs": [],
   "source": [
    "# 【few shot 提示模板】生成器\n",
    "similar_prompt = FewShotPromptTemplate(\n",
    "    # 示例集合，其中的示例将会被选择\n",
    "    example_selector=example_selector,\n",
    "    \n",
    "    # 提示词\n",
    "    example_prompt=example_prompt,\n",
    "    \n",
    "    # 自定义项，将分别添加到 提示顶部 和 提示底部\n",
    "    prefix=\"根据下面示例写出输出\",\n",
    "    suffix=\"输入:{noun}\\n输出:\",\n",
    "    \n",
    "    # 输入变量名\n",
    "    input_variables=[\"noun\"]\n",
    ")"
   ]
  },
  {
   "cell_type": "code",
   "execution_count": 32,
   "id": "69c44490",
   "metadata": {},
   "outputs": [
    {
     "name": "stdout",
     "output_type": "stream",
     "text": [
      "根据下面示例写出输出\n",
      "\n",
      "示例输入:鸟\n",
      "示例输出:鸟巢\n",
      "\n",
      "示例输入:树\n",
      "示例输出:地面\n",
      "\n",
      "输入:苹果\n",
      "输出:\n"
     ]
    }
   ],
   "source": [
    "# 获取提示\n",
    "final_prompt = similar_prompt.format(noun='苹果')\n",
    "print(final_prompt)"
   ]
  },
  {
   "cell_type": "code",
   "execution_count": 33,
   "id": "8285100a",
   "metadata": {},
   "outputs": [],
   "source": [
    "llm = OpenAI()"
   ]
  },
  {
   "cell_type": "code",
   "execution_count": 34,
   "id": "3c2f089f",
   "metadata": {},
   "outputs": [
    {
     "data": {
      "text/plain": [
       "'树上'"
      ]
     },
     "execution_count": 34,
     "metadata": {},
     "output_type": "execute_result"
    }
   ],
   "source": [
    "llm(final_prompt)"
   ]
  }
 ],
 "metadata": {
  "kernelspec": {
   "display_name": "Python 3 (ipykernel)",
   "language": "python",
   "name": "python3"
  },
  "language_info": {
   "codemirror_mode": {
    "name": "ipython",
    "version": 3
   },
   "file_extension": ".py",
   "mimetype": "text/x-python",
   "name": "python",
   "nbconvert_exporter": "python",
   "pygments_lexer": "ipython3",
   "version": "3.9.6"
  }
 },
 "nbformat": 4,
 "nbformat_minor": 5
}
