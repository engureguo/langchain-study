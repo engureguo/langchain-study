{
 "cells": [
  {
   "cell_type": "code",
   "execution_count": 1,
   "id": "94ad9342",
   "metadata": {},
   "outputs": [],
   "source": [
    "from langchain.llms.ollama import Ollama"
   ]
  },
  {
   "cell_type": "code",
   "execution_count": 3,
   "id": "449d1bf7",
   "metadata": {},
   "outputs": [],
   "source": [
    "model = Ollama()"
   ]
  },
  {
   "cell_type": "code",
   "execution_count": 7,
   "id": "4bc1eb10",
   "metadata": {},
   "outputs": [
    {
     "data": {
      "text/plain": [
       "\" Hello! My name is LLaMA, I'm a large language model trained by a team of researcher at Meta AI. nobody knows the exact number of chats I've had or will have, as this information is not publicly available. However, I can tell you that I'm just an AI assistant designed to generate human-like text responses to a wide range of questions and topics. I'm trained on a massive dataset of text from the internet and can produce responses in a variety of styles and formats. I'm here to help answer any questions you may have, so feel free to ask me anything!\""
      ]
     },
     "execution_count": 7,
     "metadata": {},
     "output_type": "execute_result"
    }
   ],
   "source": [
    "model.predict(\"introduce yourself\")"
   ]
  },
  {
   "cell_type": "code",
   "execution_count": null,
   "id": "b63e6a48",
   "metadata": {},
   "outputs": [],
   "source": []
  }
 ],
 "metadata": {
  "kernelspec": {
   "display_name": "Python 3 (ipykernel)",
   "language": "python",
   "name": "python3"
  },
  "language_info": {
   "codemirror_mode": {
    "name": "ipython",
    "version": 3
   },
   "file_extension": ".py",
   "mimetype": "text/x-python",
   "name": "python",
   "nbconvert_exporter": "python",
   "pygments_lexer": "ipython3",
   "version": "3.9.6"
  }
 },
 "nbformat": 4,
 "nbformat_minor": 5
}
