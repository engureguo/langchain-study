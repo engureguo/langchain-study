{
 "cells": [
  {
   "cell_type": "markdown",
   "id": "bf36a7a5",
   "metadata": {},
   "source": [
    "*[langchain tutorials github 示例 ipynb](https://github.com/gkamradt/langchain-tutorials/blob/main/LangChain%20Cookbook%20Part%202%20-%20Use%20Cases.ipynb)*"
   ]
  },
  {
   "cell_type": "code",
   "execution_count": 1,
   "id": "8a3177bc",
   "metadata": {},
   "outputs": [],
   "source": [
    "import os\n",
    "\n",
    "from dotenv import load_dotenv, find_dotenv\n",
    "_ = load_dotenv(find_dotenv())"
   ]
  },
  {
   "cell_type": "code",
   "execution_count": 2,
   "id": "5b990bb9",
   "metadata": {},
   "outputs": [],
   "source": [
    "! pip install -q openai"
   ]
  },
  {
   "cell_type": "code",
   "execution_count": 3,
   "id": "929ae607",
   "metadata": {},
   "outputs": [],
   "source": [
    "import openai"
   ]
  },
  {
   "cell_type": "markdown",
   "id": "3e931372",
   "metadata": {},
   "source": [
    "# Chat API: OpenAI\n",
    "\n",
    "直接调用 OpenAi 的 API\n"
   ]
  },
  {
   "cell_type": "code",
   "execution_count": 4,
   "id": "2b777166",
   "metadata": {},
   "outputs": [],
   "source": [
    "def get_completion(prompt, model='gpt-3.5-turbo'):\n",
    "    messages = [{'role': 'user', 'content': prompt}]\n",
    "    resp = openai.ChatCompletion.create(\n",
    "        model = model,\n",
    "        messages = messages,\n",
    "        temperature = 0\n",
    "    )\n",
    "    return resp.choices[0].message['content']"
   ]
  },
  {
   "cell_type": "code",
   "execution_count": 5,
   "id": "9a87f192",
   "metadata": {},
   "outputs": [
    {
     "data": {
      "text/plain": [
       "'1+1等于2。'"
      ]
     },
     "execution_count": 5,
     "metadata": {},
     "output_type": "execute_result"
    }
   ],
   "source": [
    "get_completion('1+1是?')"
   ]
  },
  {
   "cell_type": "code",
   "execution_count": 6,
   "id": "26742716",
   "metadata": {},
   "outputs": [
    {
     "data": {
      "text/plain": [
       "'1+1 equals 2.'"
      ]
     },
     "execution_count": 6,
     "metadata": {},
     "output_type": "execute_result"
    }
   ],
   "source": [
    "get_completion(\"what's 1+1?\")"
   ]
  },
  {
   "cell_type": "markdown",
   "id": "bd29d161",
   "metadata": {},
   "source": [
    "# LangChain Components"
   ]
  },
  {
   "cell_type": "markdown",
   "id": "728f966f",
   "metadata": {},
   "source": [
    "**聊天消息分类**\n",
    "\n",
    "- System类：告诉 AI 有用的上下文背景\n",
    "- Human类：代表来自用户\n",
    "- AI类：代表来自 AI"
   ]
  },
  {
   "cell_type": "code",
   "execution_count": 7,
   "id": "f99c4ad7",
   "metadata": {},
   "outputs": [],
   "source": [
    "# langchain 依赖\n",
    "! pip install -q langchain"
   ]
  },
  {
   "cell_type": "code",
   "execution_count": 8,
   "id": "7e3c620c",
   "metadata": {},
   "outputs": [],
   "source": [
    "from langchain.chat_models import ChatOpenAI\n",
    "from langchain.schema import HumanMessage, SystemMessage, AIMessage\n",
    "\n",
    "chat = ChatOpenAI(temperature = .7)"
   ]
  },
  {
   "cell_type": "code",
   "execution_count": 9,
   "id": "0c94d65a",
   "metadata": {},
   "outputs": [
    {
     "data": {
      "text/plain": [
       "AIMessage(content='如果你喜欢吃土豆，我推荐你尝试一道经典的粤菜菜肴——\"蚝油土豆片\"。这道菜将土豆切成薄片，炒至金黄酥脆，然后加入蚝油和其他调味料，口感香脆，味道鲜美。它既可以作为主菜搭配米饭或面食，也可以作为小吃或配菜。希望你会喜欢！', additional_kwargs={}, example=False)"
      ]
     },
     "execution_count": 9,
     "metadata": {},
     "output_type": "execute_result"
    }
   ],
   "source": [
    "chat([\n",
    "    SystemMessage(content='你是一个很棒的粤菜点餐的人工智能机器人，可以帮助用户在一个简短的句子中弄清楚该吃什么'),\n",
    "    HumanMessage(content='我喜欢吃土豆，我该吃什么')\n",
    "])"
   ]
  },
  {
   "cell_type": "code",
   "execution_count": 10,
   "id": "dde3de21",
   "metadata": {},
   "outputs": [
    {
     "name": "stderr",
     "output_type": "stream",
     "text": [
      "Retrying langchain.chat_models.openai.ChatOpenAI.completion_with_retry.<locals>._completion_with_retry in 4.0 seconds as it raised RateLimitError: Rate limit reached for default-gpt-3.5-turbo in organization org-Iv4OrU0kF4aCK3b7jtnmaxXu on requests per min. Limit: 3 / min. Please try again in 20s. Contact us through our help center at help.openai.com if you continue to have issues. Please add a payment method to your account to increase your rate limit. Visit https://platform.openai.com/account/billing to add a payment method..\n",
      "Retrying langchain.chat_models.openai.ChatOpenAI.completion_with_retry.<locals>._completion_with_retry in 4.0 seconds as it raised RateLimitError: Rate limit reached for default-gpt-3.5-turbo in organization org-Iv4OrU0kF4aCK3b7jtnmaxXu on requests per min. Limit: 3 / min. Please try again in 20s. Contact us through our help center at help.openai.com if you continue to have issues. Please add a payment method to your account to increase your rate limit. Visit https://platform.openai.com/account/billing to add a payment method..\n"
     ]
    },
    {
     "name": "stdout",
     "output_type": "stream",
     "text": [
      "当你到达安徽黄山时，你可以做以下活动：\n",
      "\n",
      "1. 爬山：黄山是中国著名的登山胜地，拥有壮丽的山峰、奇特的岩石和美丽的云海。你可以选择不同的登山线路，如西海大峡谷、云谷寺等，体验壮观的自然景观。\n",
      "\n",
      "2. 欣赏日出和日落：黄山以其壮丽的日出和日落而闻名。你可以选择在山顶上等待日出或日落的时刻，欣赏美丽的景色。\n",
      "\n",
      "3. 游览风景区：除了黄山主峰外，还有许多其他值得探索的景点，如光明顶、蓬莱三岛、百步云梯等。你可以欣赏到不同的风景和景点。\n",
      "\n",
      "4. 品尝当地美食：黄山地区有许多美味的当地特色美食，如黄山烤鸽、黄山毛豆、黄山炖鲈鱼等。尝试当地美食是一种了解当地文化的好方式。\n",
      "\n",
      "5. 欣赏古建筑：黄山附近还有一些古建筑，如屯溪老街、宏村等，你可以欣赏到中国传统建筑和文化的魅力。\n",
      "\n",
      "总之，到达安徽黄山后，你可以尽情享受登山、观赏景色、品尝美食和探索当地文化的乐趣。\n"
     ]
    }
   ],
   "source": [
    "aiMessage = chat([\n",
    "    SystemMessage(content='你是一个很好的 AI 机器人，可以帮助用户在一个简单的句子中找出要去哪里旅行'),\n",
    "    HumanMessage(content='我喜欢爬山，我该去哪里？'),\n",
    "    AIMessage(content='你应该去安徽黄山'), # 指定 AI 的信息\n",
    "    HumanMessage(content='当我到那里时我应该做什么')\n",
    "])\n",
    "\n",
    "print(aiMessage.content)"
   ]
  },
  {
   "cell_type": "markdown",
   "id": "c6d65dfd",
   "metadata": {},
   "source": [
    "### another method"
   ]
  },
  {
   "cell_type": "code",
   "execution_count": 11,
   "id": "fb3e0f6d",
   "metadata": {},
   "outputs": [],
   "source": [
    "from langchain.llms import OpenAI\n",
    "\n",
    "llm = OpenAI() # default: model='text-davinci-003'"
   ]
  },
  {
   "cell_type": "code",
   "execution_count": 12,
   "id": "5c3a01a7",
   "metadata": {},
   "outputs": [
    {
     "name": "stdout",
     "output_type": "stream",
     "text": [
      "\n",
      "\n",
      "白雪公主和七个小矮人\n",
      "一天，白雪公主来到小矮人屋里，小矮人们很高兴，他们都把她当成家人一样看待，给她准备了早餐，白雪公主吃完早餐，小矮人们就陪着她一起玩。可是，没多久，小矮人们就开始讨厌白雪公主，甚至把她赶出家门。白雪公主一愣，她问小矮人\n"
     ]
    }
   ],
   "source": [
    "print(llm(\"给我讲个笑话\"))"
   ]
  }
 ],
 "metadata": {
  "kernelspec": {
   "display_name": "Python 3 (ipykernel)",
   "language": "python",
   "name": "python3"
  },
  "language_info": {
   "codemirror_mode": {
    "name": "ipython",
    "version": 3
   },
   "file_extension": ".py",
   "mimetype": "text/x-python",
   "name": "python",
   "nbconvert_exporter": "python",
   "pygments_lexer": "ipython3",
   "version": "3.9.6"
  }
 },
 "nbformat": 4,
 "nbformat_minor": 5
}
